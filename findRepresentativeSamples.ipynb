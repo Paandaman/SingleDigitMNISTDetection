{
 "cells": [
  {
   "cell_type": "code",
   "execution_count": 148,
   "metadata": {},
   "outputs": [],
   "source": [
    "import matplotlib.pyplot as plt\n",
    "import numpy as np\n",
    "import torch\n",
    "import torchvision\n",
    "import torchvision.transforms as transforms"
   ]
  },
  {
   "cell_type": "code",
   "execution_count": 149,
   "metadata": {},
   "outputs": [],
   "source": [
    "def imshow(img):\n",
    "    inv_normalize = transforms.Normalize(\n",
    "       mean=[-0.1307/0.3081],\n",
    "       std=[1/0.3081]\n",
    "    )\n",
    "    img = inv_normalize(img)\n",
    "    npimg = img.numpy()\n",
    "    plt.imshow(np.transpose(npimg, (1, 2, 0)))\n",
    "    plt.show()"
   ]
  },
  {
   "cell_type": "code",
   "execution_count": 150,
   "metadata": {},
   "outputs": [],
   "source": [
    "\n",
    "def extract_classes(dataset, samples_per_class):\n",
    "    class_indices = {} \n",
    "    count = 0\n",
    "    nr_of_classes = 10\n",
    "    for i in range(len(dataset)):\n",
    "        _img_info, class_id = dataset.__getitem__(i)\n",
    "        if class_id not in class_indices:    \n",
    "            class_indices[class_id] = [i] \n",
    "            count += 1\n",
    "        elif len(class_indices[class_id]) <  samples_per_class:\n",
    "            class_indices[class_id].append(i)\n",
    "            count += 1\n",
    "        if count >= samples_per_class*nr_of_classes:\n",
    "            break\n",
    "\n",
    "    concat_indices = []  \n",
    "    for (_, index) in class_indices.items():\n",
    "        concat_indices += index \n",
    "    return concat_indices  "
   ]
  },
  {
   "cell_type": "code",
   "execution_count": 151,
   "metadata": {},
   "outputs": [],
   "source": [
    "def get_data_loaders(): \n",
    "    transform = transforms.Compose(\n",
    "        [transforms.RandomCrop(28),\n",
    "        transforms.ToTensor(),\n",
    "        transforms.Normalize((0.1307,), (0.3081,))])\n",
    "\n",
    "    trainset = torchvision.datasets.MNIST(root='./data', train=True,\n",
    "                                            download=True, transform=transform)\n",
    "    extract_class_idx = extract_classes(trainset, 1) \n",
    "    subsampler_train = torch.utils.data.SubsetRandomSampler(extract_class_idx)\n",
    "    trainloader = torch.utils.data.DataLoader(trainset, batch_size=10,\n",
    "                                            sampler=subsampler_train)\n",
    "    return trainloader, extract_class_idx"
   ]
  },
  {
   "cell_type": "code",
   "execution_count": 152,
   "metadata": {},
   "outputs": [
    {
     "name": "stderr",
     "output_type": "stream",
     "text": [
      "Clipping input data to the valid range for imshow with RGB data ([0..1] for floats or [0..255] for integers).\n"
     ]
    },
    {
     "name": "stdout",
     "output_type": "stream",
     "text": [
      "[0, 1, 2, 3, 4, 5, 7, 13, 15, 17]\n"
     ]
    },
    {
     "data": {
      "image/png": "[encoded data removed]",
      "text/plain": [
       "<Figure size 432x288 with 1 Axes>"
      ]
     },
     "metadata": {
      "needs_background": "light"
     },
     "output_type": "display_data"
    },
    {
     "name": "stdout",
     "output_type": "stream",
     "text": [
      "tensor(7) tensor(1) tensor(3) tensor(5) tensor(8) tensor(6) tensor(2) tensor(0) tensor(4) tensor(9)\n"
     ]
    }
   ],
   "source": [
    "loader, class_idx = get_data_loaders()\n",
    "dataiter = iter(loader)\n",
    "images, labels = dataiter.next()\n",
    "print(class_idx)\n",
    "\n",
    "imshow(torchvision.utils.make_grid(images))\n",
    "\n",
    "print(' '.join('%5s' % labels[j] for j in range(10)))"
   ]
  }
 ],
 "metadata": {
  "kernelspec": {
   "display_name": "Python 3",
   "language": "python",
   "name": "python3"
  },
  "language_info": {
   "codemirror_mode": {
    "name": "ipython",
    "version": 3
   },
   "file_extension": ".py",
   "mimetype": "text/x-python",
   "name": "python",
   "nbconvert_exporter": "python",
   "pygments_lexer": "ipython3",
   "version": "3.7.3"
  }
 },
 "nbformat": 4,
 "nbformat_minor": 2
}
